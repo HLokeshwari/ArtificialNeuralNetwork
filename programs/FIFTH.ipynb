{
  "nbformat": 4,
  "nbformat_minor": 0,
  "metadata": {
    "colab": {
      "provenance": [],
      "authorship_tag": "ABX9TyMrTFt8KVd2kbeMhMenKN75",
      "include_colab_link": true
    },
    "kernelspec": {
      "name": "python3",
      "display_name": "Python 3"
    },
    "language_info": {
      "name": "python"
    }
  },
  "cells": [
    {
      "cell_type": "markdown",
      "metadata": {
        "id": "view-in-github",
        "colab_type": "text"
      },
      "source": [
        "<a href=\"https://colab.research.google.com/github/HLokeshwari/ArtificialNeuralNetwork/blob/main/programs/FIFTH.ipynb\" target=\"_parent\"><img src=\"https://colab.research.google.com/assets/colab-badge.svg\" alt=\"Open In Colab\"/></a>"
      ]
    },
    {
      "cell_type": "code",
      "execution_count": null,
      "metadata": {
        "colab": {
          "base_uri": "https://localhost:8080/"
        },
        "id": "UFD2Q3L2sRup",
        "outputId": "1d0b5038-2b0d-49a9-c8b2-24b9499ae000"
      },
      "outputs": [
        {
          "output_type": "stream",
          "name": "stdout",
          "text": [
            "Weights after training: [ 2.  2. -2.]\n",
            "Input: [-1 -1], Output: -6.0\n",
            "Input: [-1  1], Output: -2.0\n",
            "Input: [ 1 -1], Output: -2.0\n",
            "Input: [1 1], Output: 2.0\n"
          ]
        }
      ],
      "source": [
        "import numpy as np\n",
        "X = np.array([\n",
        "    [-1, -1, 1],\n",
        "    [-1,  1, 1],\n",
        "    [ 1, -1, 1],\n",
        "    [ 1,  1, 1]\n",
        "])\n",
        "Y = np.array([-1, -1, -1, 1])\n",
        "W = np.zeros(X.shape[1])\n",
        "\n",
        "def hebbian(X, Y, W):\n",
        "    for i in range(len(X)):\n",
        "        delta_weight = X[i] * Y[i]\n",
        "        W += delta_weight\n",
        "    return W\n",
        "W = hebbian(X, Y, W)\n",
        "\n",
        "def test_net(X, W):\n",
        "    for i in range(len(X)):\n",
        "        output = np.dot(X[i], W)\n",
        "        print(f\"Input: {X[i][:2]}, Output: {output}\")\n",
        "\n",
        "print(\"Weights after training:\", W)\n",
        "test_net(X, W)\n"
      ]
    }
  ]
}