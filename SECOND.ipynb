{
  "nbformat": 4,
  "nbformat_minor": 0,
  "metadata": {
    "colab": {
      "provenance": [],
      "authorship_tag": "ABX9TyOXsSXdLxygIYZhQBN86PyJ",
      "include_colab_link": true
    },
    "kernelspec": {
      "name": "python3",
      "display_name": "Python 3"
    },
    "language_info": {
      "name": "python"
    }
  },
  "cells": [
    {
      "cell_type": "markdown",
      "metadata": {
        "id": "view-in-github",
        "colab_type": "text"
      },
      "source": [
        "<a href=\"https://colab.research.google.com/github/HLokeshwari/ArtificialNeuralNetwork/blob/main/SECOND.ipynb\" target=\"_parent\"><img src=\"https://colab.research.google.com/assets/colab-badge.svg\" alt=\"Open In Colab\"/></a>"
      ]
    },
    {
      "cell_type": "code",
      "execution_count": null,
      "metadata": {
        "colab": {
          "base_uri": "https://localhost:8080/"
        },
        "id": "Ypv4_vf9qu7X",
        "outputId": "64f74028-3fd5-4e08-be5e-c1ebcdf3eb8a"
      },
      "outputs": [
        {
          "output_type": "stream",
          "name": "stdout",
          "text": [
            "Accuracy: 100.00%\n",
            "Input: [4 7], Prediction: 0\n",
            "Input: [7 5], Prediction: 1\n"
          ]
        }
      ],
      "source": [
        "import numpy as np\n",
        "\n",
        "# Define the activation function (step function for binary classification)\n",
        "def activation(x):\n",
        "    return 1 if x >= 0 else 0\n",
        "\n",
        "# Define the perceptron model\n",
        "class Perceptron:\n",
        "    def __init__(self, input_size, learning_rate=0.1, epochs=100):\n",
        "        self.learning_rate = learning_rate\n",
        "        self.epochs = epochs\n",
        "        self.weights = np.zeros(input_size + 1)  # Including the bias term\n",
        "\n",
        "    def predict(self, inputs):\n",
        "        # Add the bias term\n",
        "        inputs = np.insert(inputs, 0, 1)\n",
        "        summation = np.dot(inputs, self.weights)\n",
        "        return activation(summation)\n",
        "\n",
        "    def fit(self, X, y):\n",
        "        for _ in range(self.epochs):\n",
        "            for i in range(len(X)):\n",
        "                inputs = np.insert(X[i], 0, 1)  # Add the bias term\n",
        "                prediction = self.predict(X[i])\n",
        "                error = y[i] - prediction\n",
        "                # Update weights and bias\n",
        "                self.weights += self.learning_rate * error * inputs\n",
        "\n",
        "    def evaluate(self, X, y):\n",
        "        predictions = np.array([self.predict(x) for x in X])\n",
        "        accuracy = np.mean(predictions == y)\n",
        "        return accuracy\n",
        "\n",
        "# Example data: hours of study and sleep per day, and whether the student passed (1) or failed (0)\n",
        "X = np.array([\n",
        "    [5, 7],   # Study 5 hours, Sleep 7 hours\n",
        "    [3, 6],   # Study 3 hours, Sleep 6 hours\n",
        "    [8, 5],   # Study 8 hours, Sleep 5 hours\n",
        "    [2, 8],   # Study 2 hours, Sleep 8 hours\n",
        "    [6, 6],   # Study 6 hours, Sleep 6 hours\n",
        "])\n",
        "\n",
        "y = np.array([1, 0, 1, 0, 1])  # 1 = Pass, 0 = Fail\n",
        "\n",
        "# Create and train the perceptron\n",
        "model = Perceptron(input_size=2)  # Two input features: study hours and sleep hours\n",
        "model.fit(X, y)\n",
        "\n",
        "# Test the model and calculate accuracy\n",
        "accuracy = model.evaluate(X, y)\n",
        "print(f\"Accuracy: {accuracy * 100:.2f}%\")\n",
        "\n",
        "# Test the model with new data\n",
        "test_data = np.array([\n",
        "    [4, 7],   # Study 4 hours, Sleep 7 hours\n",
        "    [7, 5],   # Study 7 hours, Sleep 5 hours\n",
        "])\n",
        "\n",
        "for data in test_data:\n",
        "    print(f\"Input: {data}, Prediction: {model.predict(data)}\")"
      ]
    }
  ]
}